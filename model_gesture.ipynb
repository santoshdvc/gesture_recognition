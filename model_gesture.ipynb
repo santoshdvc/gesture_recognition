{
 "cells": [
  {
   "cell_type": "code",
   "execution_count": null,
   "metadata": {},
   "outputs": [],
   "source": [
    "import os\n",
    "import random\n",
    "from imutils import paths\n",
    "import matplotlib.pyplot as plt\n",
    "import argparse\n",
    "import cv2\n",
    "import tensorflow as tf\n",
    "from tensorflow.keras.models import load_model\n",
    "from sklearn.preprocessing import LabelBinarizer\n",
    "from sklearn.model_selection import train_test_split\n",
    "from sklearn.metrics import classification_report\n",
    "from tensorflow.keras.models import Sequential\n",
    "from tensorflow.keras.layers import Dense\n",
    "from tensorflow.keras.optimizers import SGD\n",
    "import numpy as np\n",
    "from tensorflow import keras"
   ]
  },
  {
   "cell_type": "code",
   "execution_count": null,
   "metadata": {},
   "outputs": [],
   "source": [
    "data = []\n",
    "labels = []\n",
    "imagePaths = list(paths.list_images(\"gesture\"))\n",
    "for imagePath in imagePaths:\n",
    "\timage = cv2.imread(imagePath)\n",
    "\tdata.append(image)\n",
    "\t# extract the label from the image path and update the labels list\n",
    "\tlabel = imagePath.split(os.path.sep)[-1][0]\n",
    "    \n",
    "\tlabels.append(int(label))"
   ]
  },
  {
   "cell_type": "code",
   "execution_count": null,
   "metadata": {},
   "outputs": [],
   "source": [
    "data = np.array(data, dtype=\"float\") / 255.0\n",
    "labels = np.array(labels)"
   ]
  },
  {
   "cell_type": "code",
   "execution_count": null,
   "metadata": {},
   "outputs": [],
   "source": [
    "labels"
   ]
  },
  {
   "cell_type": "code",
   "execution_count": null,
   "metadata": {},
   "outputs": [],
   "source": [
    "(trainX, testX, trainY, testY) = train_test_split(data,\n",
    "\tlabels, test_size=0.15, random_state=22)"
   ]
  },
  {
   "cell_type": "code",
   "execution_count": null,
   "metadata": {},
   "outputs": [],
   "source": [
    "plt.figure(figsize=(10,10))\n",
    "for i in range(25):\n",
    "  plt.subplot(5,5,i+1)\n",
    "  plt.xticks([])\n",
    "  plt.yticks([])\n",
    "  plt.grid(False)\n",
    "  plt.imshow(trainX[i], cmap=plt.cm.gray)\n",
    "  plt.xlabel(trainY[i])\n",
    "plt.show()"
   ]
  },
  {
   "cell_type": "code",
   "execution_count": null,
   "metadata": {},
   "outputs": [],
   "source": [
    "model = keras.Sequential([\n",
    "  keras.layers.InputLayer(input_shape=(400, 400, 3)),\n",
    "  keras.layers.Reshape(target_shape=(400, 400, 3)),\n",
    "  keras.layers.Conv2D(filters=32, kernel_size=(3, 3), activation=tf.nn.relu),\n",
    "  keras.layers.Conv2D(filters=64, kernel_size=(3, 3), activation=tf.nn.relu),\n",
    "  keras.layers.MaxPooling2D(pool_size=(2, 2)),\n",
    "  keras.layers.Dropout(0.25),\n",
    "  keras.layers.Flatten(),\n",
    "  keras.layers.Dense(10)\n",
    "])\n",
    "\n",
    "# Define how to train the model\n",
    "model.compile(optimizer='adam',\n",
    "              loss=tf.keras.losses.SparseCategoricalCrossentropy(from_logits=True),\n",
    "              metrics=['accuracy'])\n",
    "\n",
    "# Train the digit classification model\n",
    "model.fit(trainX, trainY, epochs=5)"
   ]
  },
  {
   "cell_type": "code",
   "execution_count": null,
   "metadata": {},
   "outputs": [],
   "source": [
    "model.summary()"
   ]
  },
  {
   "cell_type": "code",
   "execution_count": null,
   "metadata": {},
   "outputs": [],
   "source": [
    "test_loss, test_acc = model.evaluate(testX, testY)\n",
    "\n",
    "print('Test accuracy:', test_acc)"
   ]
  },
  {
   "cell_type": "code",
   "execution_count": null,
   "metadata": {},
   "outputs": [],
   "source": [
    "def get_label_color(val1, val2):\n",
    "  if val1 == val2:\n",
    "    return 'black'\n",
    "  else:\n",
    "    return 'red'\n",
    "\n",
    "# Predict the labels of digit images in our test dataset.\n",
    "predictions = model.predict(testX)\n",
    "\n",
    "\n",
    "prediction_digits = np.argmax(predictions, axis=1)\n",
    "\n",
    "\n",
    "# dataset, we will highlight it in red color.\n",
    "plt.figure(figsize=(18, 18))\n",
    "for i in range(100):\n",
    "  ax = plt.subplot(10, 10, i+1)\n",
    "  plt.xticks([])\n",
    "  plt.yticks([])\n",
    "  plt.grid(False)\n",
    "  image_index = random.randint(0, len(prediction_digits))\n",
    "  plt.imshow(testX[image_index], cmap=plt.cm.gray)\n",
    "  ax.xaxis.label.set_color(get_label_color(prediction_digits[image_index],\\\n",
    "                                           testY[image_index]))\n",
    "  plt.xlabel('Predicted: %d' % prediction_digits[image_index])\n",
    "plt.show()"
   ]
  },
  {
   "cell_type": "code",
   "execution_count": null,
   "metadata": {},
   "outputs": [],
   "source": [
    "# Convert Keras model to TF Lite format.\n",
    "converter = tf.lite.TFLiteConverter.from_keras_model(model)\n",
    "tflite_float_model = converter.convert()\n",
    "\n",
    "# Show model size in KBs.\n",
    "float_model_size = len(tflite_float_model) / 1024\n",
    "print('Float model size = %dKBs.' % float_model_size)"
   ]
  },
  {
   "cell_type": "code",
   "execution_count": null,
   "metadata": {},
   "outputs": [],
   "source": [
    "converter.optimizations = [tf.lite.Optimize.DEFAULT]\n",
    "tflite_quantized_model = converter.convert()\n",
    "\n",
    "# Show model size in KBs.\n",
    "quantized_model_size = len(tflite_quantized_model) / 1024\n",
    "print('Quantized model size = %dKBs,' % quantized_model_size)\n",
    "print('which is about %d%% of the float model size.'\\\n",
    "      % (quantized_model_size * 100 / float_model_size))"
   ]
  },
  {
   "cell_type": "code",
   "execution_count": null,
   "metadata": {},
   "outputs": [],
   "source": [
    "def evaluate_tflite_model(tflite_model):\n",
    "  # Initialize TFLite interpreter using the model.\n",
    "  interpreter = tf.lite.Interpreter(model_content=tflite_model)\n",
    "  interpreter.allocate_tensors()\n",
    "  input_tensor_index = interpreter.get_input_details()[0][\"index\"]\n",
    "  output = interpreter.tensor(interpreter.get_output_details()[0][\"index\"])\n",
    "\n",
    "  # Run predictions on every image in the \"test\" dataset.\n",
    "  prediction_digits = []\n",
    "  for test_image in trainX:\n",
    "    # Pre-processing: add batch dimension and convert to float32 to match with\n",
    "    # the model's input data format.\n",
    "    test_image = np.expand_dims(test_image, axis=0).astype(np.float32)\n",
    "    interpreter.set_tensor(input_tensor_index, test_image)\n",
    "\n",
    "    # Run inference.\n",
    "    interpreter.invoke()\n",
    "\n",
    "    # Post-processing: remove batch dimension and find the digit with highest\n",
    "    # probability.\n",
    "    digit = np.argmax(output()[0])\n",
    "    prediction_digits.append(digit)\n",
    "\n",
    "  # Compare prediction results with ground truth labels to calculate accuracy.\n",
    "  accurate_count = 0\n",
    "  for index in range(len(prediction_digits)):\n",
    "    if prediction_digits[index] == trainY[index]:\n",
    "      accurate_count += 1\n",
    "  accuracy = accurate_count * 1.0 / len(prediction_digits)\n",
    "\n",
    "  return accuracy\n",
    "\n",
    "# Evaluate the TF Lite float model. \n",
    "float_accuracy = evaluate_tflite_model(tflite_float_model)\n",
    "print('Float model accuracy = %.4f' % float_accuracy)\n",
    "\n",
    "# Evalualte the TF Lite quantized model.\n",
    "quantized_accuracy = evaluate_tflite_model(tflite_quantized_model)\n",
    "print('Quantized model accuracy = %.4f' % quantized_accuracy)\n",
    "print('Accuracy drop = %.4f' % (float_accuracy - quantized_accuracy))\n"
   ]
  },
  {
   "cell_type": "code",
   "execution_count": null,
   "metadata": {},
   "outputs": [],
   "source": [
    "f = open('gesture.tflite', \"wb\")\n",
    "f.write(tflite_quantized_model)\n",
    "f.close()\n"
   ]
  },
  {
   "cell_type": "code",
   "execution_count": null,
   "metadata": {},
   "outputs": [],
   "source": []
  }
 ],
 "metadata": {
  "kernelspec": {
   "display_name": "Python 3",
   "language": "python",
   "name": "python3"
  },
  "language_info": {
   "codemirror_mode": {
    "name": "ipython",
    "version": 3
   },
   "file_extension": ".py",
   "mimetype": "text/x-python",
   "name": "python",
   "nbconvert_exporter": "python",
   "pygments_lexer": "ipython3",
   "version": "3.7.5"
  }
 },
 "nbformat": 4,
 "nbformat_minor": 4
}
